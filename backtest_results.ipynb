{
 "cells": [
  {
   "cell_type": "code",
   "execution_count": 10,
   "id": "bed661e5-99a2-4ec0-b327-7d02ea914052",
   "metadata": {},
   "outputs": [],
   "source": [
    "import pandas as pd\n",
    "import matplotlib.pyplot as plt\n",
    "import seaborn as sns\n",
    "from datetime import datetime"
   ]
  },
  {
   "cell_type": "code",
   "execution_count": 11,
   "id": "1ebcfe39-dba4-426d-b13b-d9fa16e35c02",
   "metadata": {},
   "outputs": [
    {
     "data": {
      "text/html": [
       "<div>\n",
       "<style scoped>\n",
       "    .dataframe tbody tr th:only-of-type {\n",
       "        vertical-align: middle;\n",
       "    }\n",
       "\n",
       "    .dataframe tbody tr th {\n",
       "        vertical-align: top;\n",
       "    }\n",
       "\n",
       "    .dataframe thead th {\n",
       "        text-align: right;\n",
       "    }\n",
       "</style>\n",
       "<table border=\"1\" class=\"dataframe\">\n",
       "  <thead>\n",
       "    <tr style=\"text-align: right;\">\n",
       "      <th></th>\n",
       "      <th>date</th>\n",
       "      <th>direction</th>\n",
       "      <th>entry_time</th>\n",
       "      <th>entry_price</th>\n",
       "      <th>exit_time</th>\n",
       "      <th>exit_price</th>\n",
       "      <th>return</th>\n",
       "    </tr>\n",
       "  </thead>\n",
       "  <tbody>\n",
       "    <tr>\n",
       "      <th>0</th>\n",
       "      <td>2025-05-22</td>\n",
       "      <td>long</td>\n",
       "      <td>09:30:00</td>\n",
       "      <td>275.519989</td>\n",
       "      <td>15:15:00</td>\n",
       "      <td>275.929993</td>\n",
       "      <td>0.001488</td>\n",
       "    </tr>\n",
       "    <tr>\n",
       "      <th>1</th>\n",
       "      <td>2025-06-05</td>\n",
       "      <td>short</td>\n",
       "      <td>09:30:00</td>\n",
       "      <td>277.500000</td>\n",
       "      <td>15:15:00</td>\n",
       "      <td>277.890015</td>\n",
       "      <td>-0.001405</td>\n",
       "    </tr>\n",
       "    <tr>\n",
       "      <th>2</th>\n",
       "      <td>2025-06-26</td>\n",
       "      <td>short</td>\n",
       "      <td>09:30:00</td>\n",
       "      <td>284.489990</td>\n",
       "      <td>15:15:00</td>\n",
       "      <td>286.299988</td>\n",
       "      <td>-0.006362</td>\n",
       "    </tr>\n",
       "  </tbody>\n",
       "</table>\n",
       "</div>"
      ],
      "text/plain": [
       "        date direction entry_time  entry_price exit_time  exit_price    return\n",
       "0 2025-05-22      long   09:30:00   275.519989  15:15:00  275.929993  0.001488\n",
       "1 2025-06-05     short   09:30:00   277.500000  15:15:00  277.890015 -0.001405\n",
       "2 2025-06-26     short   09:30:00   284.489990  15:15:00  286.299988 -0.006362"
      ]
     },
     "execution_count": 11,
     "metadata": {},
     "output_type": "execute_result"
    }
   ],
   "source": [
    "trades = pd.read_csv(\"expiry_trades.csv\", parse_dates=[\"date\"])\n",
    "trades.head()"
   ]
  },
  {
   "cell_type": "code",
   "execution_count": 12,
   "id": "b45da442-d2ac-4bdb-8da9-4ec256da3562",
   "metadata": {},
   "outputs": [],
   "source": [
    "# trades['entry_time'] = pd.to_datetime(trades['entry_time'], format=\"%H:%M:%S\").dt.time\n",
    "# trades['exit_time'] = pd.to_datetime(trades['exit_time'], format=\"%H:%M:%S\").dt.time\n",
    "trades['outcome'] = trades['return'].apply(lambda x: 'Win' if x > 0 else 'Loss')\n",
    "trades['cum_return'] = (1 + trades['return']).cumprod()"
   ]
  },
  {
   "cell_type": "code",
   "execution_count": 13,
   "id": "643dff1b-12b9-4c49-abc1-63928c4854ee",
   "metadata": {},
   "outputs": [
    {
     "data": {
      "text/html": [
       "<div>\n",
       "<style scoped>\n",
       "    .dataframe tbody tr th:only-of-type {\n",
       "        vertical-align: middle;\n",
       "    }\n",
       "\n",
       "    .dataframe tbody tr th {\n",
       "        vertical-align: top;\n",
       "    }\n",
       "\n",
       "    .dataframe thead th {\n",
       "        text-align: right;\n",
       "    }\n",
       "</style>\n",
       "<table border=\"1\" class=\"dataframe\">\n",
       "  <thead>\n",
       "    <tr style=\"text-align: right;\">\n",
       "      <th></th>\n",
       "      <th>Value</th>\n",
       "    </tr>\n",
       "  </thead>\n",
       "  <tbody>\n",
       "    <tr>\n",
       "      <th>Total Trades</th>\n",
       "      <td>3.000000</td>\n",
       "    </tr>\n",
       "    <tr>\n",
       "      <th>Winning Trades</th>\n",
       "      <td>1.000000</td>\n",
       "    </tr>\n",
       "    <tr>\n",
       "      <th>Losing Trades</th>\n",
       "      <td>2.000000</td>\n",
       "    </tr>\n",
       "    <tr>\n",
       "      <th>Win Rate (%)</th>\n",
       "      <td>33.333333</td>\n",
       "    </tr>\n",
       "    <tr>\n",
       "      <th>Average Return (%)</th>\n",
       "      <td>-0.209320</td>\n",
       "    </tr>\n",
       "    <tr>\n",
       "      <th>Std Dev (%)</th>\n",
       "      <td>0.397011</td>\n",
       "    </tr>\n",
       "    <tr>\n",
       "      <th>Max Return (%)</th>\n",
       "      <td>0.148811</td>\n",
       "    </tr>\n",
       "    <tr>\n",
       "      <th>Min Return (%)</th>\n",
       "      <td>-0.636225</td>\n",
       "    </tr>\n",
       "    <tr>\n",
       "      <th>Cumulative Return (multiplier)</th>\n",
       "      <td>0.993718</td>\n",
       "    </tr>\n",
       "    <tr>\n",
       "      <th>Sharpe Ratio (naive)</th>\n",
       "      <td>-0.527240</td>\n",
       "    </tr>\n",
       "  </tbody>\n",
       "</table>\n",
       "</div>"
      ],
      "text/plain": [
       "                                    Value\n",
       "Total Trades                     3.000000\n",
       "Winning Trades                   1.000000\n",
       "Losing Trades                    2.000000\n",
       "Win Rate (%)                    33.333333\n",
       "Average Return (%)              -0.209320\n",
       "Std Dev (%)                      0.397011\n",
       "Max Return (%)                   0.148811\n",
       "Min Return (%)                  -0.636225\n",
       "Cumulative Return (multiplier)   0.993718\n",
       "Sharpe Ratio (naive)            -0.527240"
      ]
     },
     "execution_count": 13,
     "metadata": {},
     "output_type": "execute_result"
    }
   ],
   "source": [
    "summary = {\n",
    "    \"Total Trades\": len(trades),\n",
    "    \"Winning Trades\": (trades['return'] > 0).sum(),\n",
    "    \"Losing Trades\": (trades['return'] <= 0).sum(),\n",
    "    \"Win Rate (%)\": 100 * (trades['return'] > 0).mean(),\n",
    "    \"Average Return (%)\": 100 * trades['return'].mean(),\n",
    "    \"Std Dev (%)\": 100 * trades['return'].std(),\n",
    "    \"Max Return (%)\": 100 * trades['return'].max(),\n",
    "    \"Min Return (%)\": 100 * trades['return'].min(),\n",
    "    \"Cumulative Return (multiplier)\": trades['cum_return'].iloc[-1] if not trades.empty else 1.0,\n",
    "    \"Sharpe Ratio (naive)\": trades['return'].mean() / trades['return'].std() if trades['return'].std() > 0 else None\n",
    "}\n",
    "\n",
    "pd.DataFrame.from_dict(summary, orient='index', columns=[\"Value\"])\n"
   ]
  },
  {
   "cell_type": "code",
   "execution_count": 14,
   "id": "ac2ec5f1-d8f5-4652-8105-4edf927e9894",
   "metadata": {},
   "outputs": [
    {
     "data": {
      "image/png": "[encoded data removed]",
      "text/plain": [
       "<Figure size 1000x500 with 1 Axes>"
      ]
     },
     "metadata": {},
     "output_type": "display_data"
    }
   ],
   "source": [
    "plt.figure(figsize=(10, 5))\n",
    "plt.plot(trades['date'], trades['cum_return'], marker='o', linestyle='-', color='teal')\n",
    "plt.title(\"Cumulative Return Over Time\")\n",
    "plt.xlabel(\"Date\")\n",
    "plt.ylabel(\"Cumulative Return (Multiplier)\")\n",
    "plt.xticks(rotation=45)\n",
    "plt.grid(True)\n",
    "plt.tight_layout()\n",
    "plt.show()\n"
   ]
  },
  {
   "cell_type": "code",
   "execution_count": 15,
   "id": "ce6275f8-e213-4be9-a827-f9abaa982bb3",
   "metadata": {},
   "outputs": [
    {
     "data": {
      "image/png": "[encoded data removed]",
      "text/plain": [
       "<Figure size 1000x500 with 1 Axes>"
      ]
     },
     "metadata": {},
     "output_type": "display_data"
    }
   ],
   "source": [
    "trades['month'] = trades['date'].dt.to_period('M')\n",
    "monthly_perf = trades.groupby('month')['return'].sum()\n",
    "\n",
    "plt.figure(figsize=(10, 5))\n",
    "monthly_perf.plot(kind='bar', color='coral')\n",
    "plt.title(\"Monthly Strategy Return\")\n",
    "plt.ylabel(\"Total Return\")\n",
    "plt.xticks(rotation=45)\n",
    "plt.grid(axis='y')\n",
    "plt.tight_layout()\n",
    "plt.show()\n"
   ]
  },
  {
   "cell_type": "code",
   "execution_count": 16,
   "id": "4452293b-af60-4e49-8f58-cfed13ca49fc",
   "metadata": {},
   "outputs": [
    {
     "name": "stdout",
     "output_type": "stream",
     "text": [
      "Performance by Trade Direction:\n"
     ]
    },
    {
     "data": {
      "text/html": [
       "<div>\n",
       "<style scoped>\n",
       "    .dataframe tbody tr th:only-of-type {\n",
       "        vertical-align: middle;\n",
       "    }\n",
       "\n",
       "    .dataframe tbody tr th {\n",
       "        vertical-align: top;\n",
       "    }\n",
       "\n",
       "    .dataframe thead th {\n",
       "        text-align: right;\n",
       "    }\n",
       "</style>\n",
       "<table border=\"1\" class=\"dataframe\">\n",
       "  <thead>\n",
       "    <tr style=\"text-align: right;\">\n",
       "      <th></th>\n",
       "      <th>count</th>\n",
       "      <th>mean</th>\n",
       "      <th>sum</th>\n",
       "      <th>std</th>\n",
       "    </tr>\n",
       "    <tr>\n",
       "      <th>direction</th>\n",
       "      <th></th>\n",
       "      <th></th>\n",
       "      <th></th>\n",
       "      <th></th>\n",
       "    </tr>\n",
       "  </thead>\n",
       "  <tbody>\n",
       "    <tr>\n",
       "      <th>long</th>\n",
       "      <td>1</td>\n",
       "      <td>0.001488</td>\n",
       "      <td>0.001488</td>\n",
       "      <td>NaN</td>\n",
       "    </tr>\n",
       "    <tr>\n",
       "      <th>short</th>\n",
       "      <td>2</td>\n",
       "      <td>-0.003884</td>\n",
       "      <td>-0.007768</td>\n",
       "      <td>0.003505</td>\n",
       "    </tr>\n",
       "  </tbody>\n",
       "</table>\n",
       "</div>"
      ],
      "text/plain": [
       "           count      mean       sum       std\n",
       "direction                                     \n",
       "long           1  0.001488  0.001488       NaN\n",
       "short          2 -0.003884 -0.007768  0.003505"
      ]
     },
     "metadata": {},
     "output_type": "display_data"
    }
   ],
   "source": [
    "direction_perf = trades.groupby('direction')['return'].agg(['count', 'mean', 'sum', 'std'])\n",
    "\n",
    "print(\"Performance by Trade Direction:\")\n",
    "display(direction_perf)"
   ]
  },
  {
   "cell_type": "code",
   "execution_count": 17,
   "id": "f204196b-00af-4804-94fb-2f27df8dff17",
   "metadata": {},
   "outputs": [
    {
     "data": {
      "text/html": [
       "<div>\n",
       "<style scoped>\n",
       "    .dataframe tbody tr th:only-of-type {\n",
       "        vertical-align: middle;\n",
       "    }\n",
       "\n",
       "    .dataframe tbody tr th {\n",
       "        vertical-align: top;\n",
       "    }\n",
       "\n",
       "    .dataframe thead th {\n",
       "        text-align: right;\n",
       "    }\n",
       "</style>\n",
       "<table border=\"1\" class=\"dataframe\">\n",
       "  <thead>\n",
       "    <tr style=\"text-align: right;\">\n",
       "      <th></th>\n",
       "      <th>Threshold</th>\n",
       "      <th>Trades</th>\n",
       "      <th>Mean Return</th>\n",
       "      <th>Win Rate</th>\n",
       "      <th>Cumulative Return</th>\n",
       "    </tr>\n",
       "  </thead>\n",
       "  <tbody>\n",
       "    <tr>\n",
       "      <th>0</th>\n",
       "      <td>0.001</td>\n",
       "      <td>3</td>\n",
       "      <td>-0.002093</td>\n",
       "      <td>0.333333</td>\n",
       "      <td>0.993718</td>\n",
       "    </tr>\n",
       "    <tr>\n",
       "      <th>1</th>\n",
       "      <td>0.002</td>\n",
       "      <td>1</td>\n",
       "      <td>-0.006362</td>\n",
       "      <td>0.000000</td>\n",
       "      <td>0.993638</td>\n",
       "    </tr>\n",
       "    <tr>\n",
       "      <th>2</th>\n",
       "      <td>0.003</td>\n",
       "      <td>1</td>\n",
       "      <td>-0.006362</td>\n",
       "      <td>0.000000</td>\n",
       "      <td>0.993638</td>\n",
       "    </tr>\n",
       "    <tr>\n",
       "      <th>3</th>\n",
       "      <td>0.004</td>\n",
       "      <td>1</td>\n",
       "      <td>-0.006362</td>\n",
       "      <td>0.000000</td>\n",
       "      <td>0.993638</td>\n",
       "    </tr>\n",
       "    <tr>\n",
       "      <th>4</th>\n",
       "      <td>0.005</td>\n",
       "      <td>1</td>\n",
       "      <td>-0.006362</td>\n",
       "      <td>0.000000</td>\n",
       "      <td>0.993638</td>\n",
       "    </tr>\n",
       "  </tbody>\n",
       "</table>\n",
       "</div>"
      ],
      "text/plain": [
       "   Threshold  Trades  Mean Return  Win Rate  Cumulative Return\n",
       "0      0.001       3    -0.002093  0.333333           0.993718\n",
       "1      0.002       1    -0.006362  0.000000           0.993638\n",
       "2      0.003       1    -0.006362  0.000000           0.993638\n",
       "3      0.004       1    -0.006362  0.000000           0.993638\n",
       "4      0.005       1    -0.006362  0.000000           0.993638"
      ]
     },
     "execution_count": 17,
     "metadata": {},
     "output_type": "execute_result"
    }
   ],
   "source": [
    "thresholds = [0.001, 0.002, 0.003, 0.004, 0.005]\n",
    "\n",
    "sensitivity = []\n",
    "\n",
    "for t in thresholds:\n",
    "    filtered = trades[trades['return'].abs() > t]\n",
    "    sensitivity.append({\n",
    "        'Threshold': t,\n",
    "        'Trades': len(filtered),\n",
    "        'Mean Return': filtered['return'].mean(),\n",
    "        'Win Rate': (filtered['return'] > 0).mean(),\n",
    "        'Cumulative Return': (1 + filtered['return']).prod()\n",
    "    })\n",
    "\n",
    "pd.DataFrame(sensitivity)\n"
   ]
  },
  {
   "cell_type": "code",
   "execution_count": null,
   "id": "4614e2a2-a32b-4c8f-a79d-6b0c43e2901d",
   "metadata": {},
   "outputs": [],
   "source": []
  }
 ],
 "metadata": {
  "kernelspec": {
   "display_name": "Python 3 (ipykernel)",
   "language": "python",
   "name": "python3"
  },
  "language_info": {
   "codemirror_mode": {
    "name": "ipython",
    "version": 3
   },
   "file_extension": ".py",
   "mimetype": "text/x-python",
   "name": "python",
   "nbconvert_exporter": "python",
   "pygments_lexer": "ipython3",
   "version": "3.12.7"
  }
 },
 "nbformat": 4,
 "nbformat_minor": 5
}
